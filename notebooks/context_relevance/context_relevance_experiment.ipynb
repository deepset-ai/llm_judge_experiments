{
 "cells": [
  {
   "cell_type": "code",
   "execution_count": 1,
   "metadata": {},
   "outputs": [
    {
     "name": "stderr",
     "output_type": "stream",
     "text": [
      "/home/tstad/.local/share/hatch/env/virtual/deepset-cloud-custom-nodes/1TRZ-Wjw/deepset-cloud-custom-nodes/lib/python3.11/site-packages/tqdm/auto.py:21: TqdmWarning: IProgress not found. Please update jupyter and ipywidgets. See https://ipywidgets.readthedocs.io/en/stable/user_install.html\n",
      "  from .autonotebook import tqdm as notebook_tqdm\n"
     ]
    }
   ],
   "source": [
    "import pandas as pd\n",
    "from datasets import load_dataset"
   ]
  },
  {
   "cell_type": "markdown",
   "metadata": {},
   "source": [
    "# Investigating the source data"
   ]
  },
  {
   "cell_type": "code",
   "execution_count": 5,
   "metadata": {},
   "outputs": [
    {
     "name": "stderr",
     "output_type": "stream",
     "text": [
      "Downloading data: 100%|██████████| 566M/566M [00:45<00:00, 12.4MB/s]  \n",
      "Downloading data: 100%|██████████| 46.3M/46.3M [00:04<00:00, 10.8MB/s]\n",
      "Generating train split: 100%|██████████| 90447/90447 [00:17<00:00, 5312.62 examples/s]\n",
      "Generating validation split: 100%|██████████| 7405/7405 [00:01<00:00, 5214.02 examples/s]\n"
     ]
    },
    {
     "data": {
      "text/plain": [
       "DatasetDict({\n",
       "    train: Dataset({\n",
       "        features: ['id', 'question', 'answer', 'type', 'level', 'supporting_facts', 'context'],\n",
       "        num_rows: 90447\n",
       "    })\n",
       "    validation: Dataset({\n",
       "        features: ['id', 'question', 'answer', 'type', 'level', 'supporting_facts', 'context'],\n",
       "        num_rows: 7405\n",
       "    })\n",
       "})"
      ]
     },
     "execution_count": 5,
     "metadata": {},
     "output_type": "execute_result"
    }
   ],
   "source": [
    "load_dataset(\"hotpot_qa\", name=\"distractor\")"
   ]
  },
  {
   "cell_type": "code",
   "execution_count": 6,
   "metadata": {},
   "outputs": [],
   "source": [
    "ds = load_dataset(\"hotpot_qa\", name=\"distractor\")"
   ]
  },
  {
   "cell_type": "code",
   "execution_count": 14,
   "metadata": {},
   "outputs": [
    {
     "data": {
      "text/plain": [
       "{'id': '5a8b57f25542995d1e6f1371',\n",
       " 'question': 'Were Scott Derrickson and Ed Wood of the same nationality?',\n",
       " 'answer': 'yes',\n",
       " 'type': 'comparison',\n",
       " 'level': 'hard',\n",
       " 'supporting_facts': {'title': ['Scott Derrickson', 'Ed Wood'],\n",
       "  'sent_id': [0, 0]},\n",
       " 'context': {'title': ['Ed Wood (film)',\n",
       "   'Scott Derrickson',\n",
       "   'Woodson, Arkansas',\n",
       "   'Tyler Bates',\n",
       "   'Ed Wood',\n",
       "   'Deliver Us from Evil (2014 film)',\n",
       "   'Adam Collis',\n",
       "   'Sinister (film)',\n",
       "   'Conrad Brooks',\n",
       "   'Doctor Strange (2016 film)'],\n",
       "  'sentences': [['Ed Wood is a 1994 American biographical period comedy-drama film directed and produced by Tim Burton, and starring Johnny Depp as cult filmmaker Ed Wood.',\n",
       "    \" The film concerns the period in Wood's life when he made his best-known films as well as his relationship with actor Bela Lugosi, played by Martin Landau.\",\n",
       "    ' Sarah Jessica Parker, Patricia Arquette, Jeffrey Jones, Lisa Marie, and Bill Murray are among the supporting cast.'],\n",
       "   ['Scott Derrickson (born July 16, 1966) is an American director, screenwriter and producer.',\n",
       "    ' He lives in Los Angeles, California.',\n",
       "    ' He is best known for directing horror films such as \"Sinister\", \"The Exorcism of Emily Rose\", and \"Deliver Us From Evil\", as well as the 2016 Marvel Cinematic Universe installment, \"Doctor Strange.\"'],\n",
       "   ['Woodson is a census-designated place (CDP) in Pulaski County, Arkansas, in the United States.',\n",
       "    ' Its population was 403 at the 2010 census.',\n",
       "    ' It is part of the Little Rock–North Little Rock–Conway Metropolitan Statistical Area.',\n",
       "    ' Woodson and its accompanying Woodson Lake and Wood Hollow are the namesake for Ed Wood Sr., a prominent plantation owner, trader, and businessman at the turn of the 20th century.',\n",
       "    ' Woodson is adjacent to the Wood Plantation, the largest of the plantations own by Ed Wood Sr.'],\n",
       "   ['Tyler Bates (born June 5, 1965) is an American musician, music producer, and composer for films, television, and video games.',\n",
       "    ' Much of his work is in the action and horror film genres, with films like \"Dawn of the Dead, 300, Sucker Punch,\" and \"John Wick.\"',\n",
       "    ' He has collaborated with directors like Zack Snyder, Rob Zombie, Neil Marshall, William Friedkin, Scott Derrickson, and James Gunn.',\n",
       "    ' With Gunn, he has scored every one of the director\\'s films; including \"Guardians of the Galaxy\", which became one of the highest grossing domestic movies of 2014, and its 2017 sequel.',\n",
       "    ' In addition, he is also the lead guitarist of the American rock band Marilyn Manson, and produced its albums \"The Pale Emperor\" and \"Heaven Upside Down\".'],\n",
       "   ['Edward Davis Wood Jr. (October 10, 1924 – December 10, 1978) was an American filmmaker, actor, writer, producer, and director.'],\n",
       "   ['Deliver Us from Evil is a 2014 American supernatural horror film directed by Scott Derrickson and produced by Jerry Bruckheimer.',\n",
       "    ' The film is officially based on a 2001 non-fiction book entitled \"Beware the Night\" by Ralph Sarchie and Lisa Collier Cool, and its marketing campaign highlighted that it was \"inspired by actual accounts\".',\n",
       "    ' The film stars Eric Bana, Édgar Ramírez, Sean Harris, Olivia Munn, and Joel McHale in the main roles and was released on July 2, 2014.'],\n",
       "   ['Adam Collis is an American filmmaker and actor.',\n",
       "    ' He attended the Duke University from 1986 to 1990 and the University of California, Los Angeles from 2007 to 2010.',\n",
       "    ' He also studied cinema at the University of Southern California from 1991 to 1997.',\n",
       "    ' Collis first work was the assistant director for the Scott Derrickson\\'s short \"Love in the Ruins\" (1995).',\n",
       "    ' In 1998, he played \"Crankshaft\" in Eric Koyanagi\\'s \"Hundred Percent\".'],\n",
       "   ['Sinister is a 2012 supernatural horror film directed by Scott Derrickson and written by Derrickson and C. Robert Cargill.',\n",
       "    ' It stars Ethan Hawke as fictional true-crime writer Ellison Oswalt who discovers a box of home movies in his attic that puts his family in danger.'],\n",
       "   ['Conrad Brooks (born Conrad Biedrzycki on January 3, 1931 in Baltimore, Maryland) is an American actor.',\n",
       "    ' He moved to Hollywood, California in 1948 to pursue a career in acting.',\n",
       "    ' He got his start in movies appearing in Ed Wood films such as \"Plan 9 from Outer Space\", \"Glen or Glenda\", and \"Jail Bait.\"',\n",
       "    ' He took a break from acting during the 1960s and 1970s but due to the ongoing interest in the films of Ed Wood, he reemerged in the 1980s and has become a prolific actor.',\n",
       "    ' He also has since gone on to write, produce and direct several films.'],\n",
       "   ['Doctor Strange is a 2016 American superhero film based on the Marvel Comics character of the same name, produced by Marvel Studios and distributed by Walt Disney Studios Motion Pictures.',\n",
       "    ' It is the fourteenth film of the Marvel Cinematic Universe (MCU).',\n",
       "    ' The film was directed by Scott Derrickson, who wrote it with Jon Spaihts and C. Robert Cargill, and stars Benedict Cumberbatch as Stephen Strange, along with Chiwetel Ejiofor, Rachel McAdams, Benedict Wong, Michael Stuhlbarg, Benjamin Bratt, Scott Adkins, Mads Mikkelsen, and Tilda Swinton.',\n",
       "    ' In \"Doctor Strange\", surgeon Strange learns the mystic arts after a career-ending car accident.']]}}"
      ]
     },
     "execution_count": 14,
     "metadata": {},
     "output_type": "execute_result"
    }
   ],
   "source": [
    "ds[\"validation\"][0]"
   ]
  },
  {
   "cell_type": "code",
   "execution_count": 8,
   "metadata": {},
   "outputs": [
    {
     "data": {
      "text/plain": [
       "90447"
      ]
     },
     "execution_count": 8,
     "metadata": {},
     "output_type": "execute_result"
    }
   ],
   "source": [
    "len(ds[\"train\"])"
   ]
  },
  {
   "cell_type": "code",
   "execution_count": 9,
   "metadata": {},
   "outputs": [
    {
     "name": "stderr",
     "output_type": "stream",
     "text": [
      "Downloading data: 100%|██████████| 47.5M/47.5M [00:04<00:00, 10.8MB/s]\n",
      "Downloading data: 100%|██████████| 46.2M/46.2M [00:04<00:00, 10.8MB/s]\n",
      "Generating train split: 100%|██████████| 90447/90447 [00:16<00:00, 5369.44 examples/s]\n",
      "Generating validation split: 100%|██████████| 7405/7405 [00:01<00:00, 6963.20 examples/s]\n",
      "Generating test split: 100%|██████████| 7405/7405 [00:01<00:00, 5896.20 examples/s]\n"
     ]
    }
   ],
   "source": [
    "ds_full = load_dataset(\"hotpot_qa\", name=\"fullwiki\")"
   ]
  },
  {
   "cell_type": "code",
   "execution_count": 16,
   "metadata": {},
   "outputs": [
    {
     "data": {
      "text/plain": [
       "{'id': '5a8b57f25542995d1e6f1371',\n",
       " 'question': 'Were Scott Derrickson and Ed Wood of the same nationality?',\n",
       " 'answer': 'yes',\n",
       " 'type': 'comparison',\n",
       " 'level': 'hard',\n",
       " 'supporting_facts': {'title': ['Scott Derrickson', 'Ed Wood'],\n",
       "  'sent_id': [0, 0]},\n",
       " 'context': {'title': ['Adam Collis',\n",
       "   'Ed Wood (film)',\n",
       "   'Tyler Bates',\n",
       "   'Doctor Strange (2016 film)',\n",
       "   'Hellraiser: Inferno',\n",
       "   'Sinister (film)',\n",
       "   'Deliver Us from Evil (2014 film)',\n",
       "   'Woodson, Arkansas',\n",
       "   'Conrad Brooks',\n",
       "   'The Exorcism of Emily Rose'],\n",
       "  'sentences': [['Adam Collis is an American filmmaker and actor.',\n",
       "    ' He attended the Duke University from 1986 to 1990 and the University of California, Los Angeles from 2007 to 2010.',\n",
       "    ' He also studied cinema at the University of Southern California from 1991 to 1997.',\n",
       "    ' Collis first work was the assistant director for the Scott Derrickson\\'s short \"Love in the Ruins\" (1995).',\n",
       "    ' In 1998, he played \"Crankshaft\" in Eric Koyanagi\\'s \"Hundred Percent\".'],\n",
       "   ['Ed Wood is a 1994 American biographical period comedy-drama film directed and produced by Tim Burton, and starring Johnny Depp as cult filmmaker Ed Wood.',\n",
       "    \" The film concerns the period in Wood's life when he made his best-known films as well as his relationship with actor Bela Lugosi, played by Martin Landau.\",\n",
       "    ' Sarah Jessica Parker, Patricia Arquette, Jeffrey Jones, Lisa Marie, and Bill Murray are among the supporting cast.'],\n",
       "   ['Tyler Bates (born June 5, 1965) is an American musician, music producer, and composer for films, television, and video games.',\n",
       "    ' Much of his work is in the action and horror film genres, with films like \"Dawn of the Dead, 300, Sucker Punch,\" and \"John Wick.\"',\n",
       "    ' He has collaborated with directors like Zack Snyder, Rob Zombie, Neil Marshall, William Friedkin, Scott Derrickson, and James Gunn.',\n",
       "    ' With Gunn, he has scored every one of the director\\'s films; including \"Guardians of the Galaxy\", which became one of the highest grossing domestic movies of 2014, and its 2017 sequel.',\n",
       "    ' In addition, he is also the lead guitarist of the American rock band Marilyn Manson, and produced its albums \"The Pale Emperor\" and \"Heaven Upside Down\".'],\n",
       "   ['Doctor Strange is a 2016 American superhero film based on the Marvel Comics character of the same name, produced by Marvel Studios and distributed by Walt Disney Studios Motion Pictures.',\n",
       "    ' It is the fourteenth film of the Marvel Cinematic Universe (MCU).',\n",
       "    ' The film was directed by Scott Derrickson, who wrote it with Jon Spaihts and C. Robert Cargill, and stars Benedict Cumberbatch as Stephen Strange, along with Chiwetel Ejiofor, Rachel McAdams, Benedict Wong, Michael Stuhlbarg, Benjamin Bratt, Scott Adkins, Mads Mikkelsen, and Tilda Swinton.',\n",
       "    ' In \"Doctor Strange\", surgeon Strange learns the mystic arts after a career-ending car accident.'],\n",
       "   ['Hellraiser: Inferno (also known as Hellraiser V: Inferno) is a 2000 American horror film.',\n",
       "    ' It is the fifth installment in the \"Hellraiser\" series and the first \"Hellraiser\" film to go straight-to-DVD.',\n",
       "    ' It was directed by Scott Derrickson and released on October 3, 2000.',\n",
       "    \" The film concerns a corrupt detective who discovers Lemarchand's box at a crime scene.\",\n",
       "    \" The film's reviews were mixed.\"],\n",
       "   ['Sinister is a 2012 supernatural horror film directed by Scott Derrickson and written by Derrickson and C. Robert Cargill.',\n",
       "    ' It stars Ethan Hawke as fictional true-crime writer Ellison Oswalt who discovers a box of home movies in his attic that puts his family in danger.'],\n",
       "   ['Deliver Us from Evil is a 2014 American supernatural horror film directed by Scott Derrickson and produced by Jerry Bruckheimer.',\n",
       "    ' The film is officially based on a 2001 non-fiction book entitled \"Beware the Night\" by Ralph Sarchie and Lisa Collier Cool, and its marketing campaign highlighted that it was \"inspired by actual accounts\".',\n",
       "    ' The film stars Eric Bana, Édgar Ramírez, Sean Harris, Olivia Munn, and Joel McHale in the main roles and was released on July 2, 2014.'],\n",
       "   ['Woodson is a census-designated place (CDP) in Pulaski County, Arkansas, in the United States.',\n",
       "    ' Its population was 403 at the 2010 census.',\n",
       "    ' It is part of the Little Rock–North Little Rock–Conway Metropolitan Statistical Area.',\n",
       "    ' Woodson and its accompanying Woodson Lake and Wood Hollow are the namesake for Ed Wood Sr., a prominent plantation owner, trader, and businessman at the turn of the 20th century.',\n",
       "    ' Woodson is adjacent to the Wood Plantation, the largest of the plantations own by Ed Wood Sr.'],\n",
       "   ['Conrad Brooks (born Conrad Biedrzycki on January 3, 1931 in Baltimore, Maryland) is an American actor.',\n",
       "    ' He moved to Hollywood, California in 1948 to pursue a career in acting.',\n",
       "    ' He got his start in movies appearing in Ed Wood films such as \"Plan 9 from Outer Space\", \"Glen or Glenda\", and \"Jail Bait.\"',\n",
       "    ' He took a break from acting during the 1960s and 1970s but due to the ongoing interest in the films of Ed Wood, he reemerged in the 1980s and has become a prolific actor.',\n",
       "    ' He also has since gone on to write, produce and direct several films.'],\n",
       "   ['The Exorcism of Emily Rose is a 2005 American legal drama horror film directed by Scott Derrickson and starring Laura Linney and Tom Wilkinson.',\n",
       "    ' The film is loosely based on the story of Anneliese Michel and follows a self-proclaimed agnostic who acts as defense counsel (Linney) representing a parish priest (Wilkinson), accused by the state of negligent homicide after he performed an exorcism.']]}}"
      ]
     },
     "execution_count": 16,
     "metadata": {},
     "output_type": "execute_result"
    }
   ],
   "source": [
    "ds_full[\"validation\"][0]"
   ]
  },
  {
   "cell_type": "code",
   "execution_count": 11,
   "metadata": {},
   "outputs": [
    {
     "data": {
      "text/plain": [
       "90447"
      ]
     },
     "execution_count": 11,
     "metadata": {},
     "output_type": "execute_result"
    }
   ],
   "source": [
    "len(ds_full[\"train\"])"
   ]
  },
  {
   "cell_type": "code",
   "execution_count": 18,
   "metadata": {},
   "outputs": [
    {
     "data": {
      "text/plain": [
       "True"
      ]
     },
     "execution_count": 18,
     "metadata": {},
     "output_type": "execute_result"
    }
   ],
   "source": [
    "len(ds[\"validation\"]) == len(ds_full[\"validation\"])"
   ]
  },
  {
   "cell_type": "code",
   "execution_count": 21,
   "metadata": {},
   "outputs": [],
   "source": [
    "for disc, full in zip(ds[\"train\"], ds_full[\"train\"]):\n",
    "    if disc != full:\n",
    "        print(disc)\n",
    "        print(full)\n",
    "        break"
   ]
  },
  {
   "cell_type": "code",
   "execution_count": 22,
   "metadata": {},
   "outputs": [
    {
     "name": "stdout",
     "output_type": "stream",
     "text": [
      "{'id': '5a8b57f25542995d1e6f1371', 'question': 'Were Scott Derrickson and Ed Wood of the same nationality?', 'answer': 'yes', 'type': 'comparison', 'level': 'hard', 'supporting_facts': {'title': ['Scott Derrickson', 'Ed Wood'], 'sent_id': [0, 0]}, 'context': {'title': ['Ed Wood (film)', 'Scott Derrickson', 'Woodson, Arkansas', 'Tyler Bates', 'Ed Wood', 'Deliver Us from Evil (2014 film)', 'Adam Collis', 'Sinister (film)', 'Conrad Brooks', 'Doctor Strange (2016 film)'], 'sentences': [['Ed Wood is a 1994 American biographical period comedy-drama film directed and produced by Tim Burton, and starring Johnny Depp as cult filmmaker Ed Wood.', \" The film concerns the period in Wood's life when he made his best-known films as well as his relationship with actor Bela Lugosi, played by Martin Landau.\", ' Sarah Jessica Parker, Patricia Arquette, Jeffrey Jones, Lisa Marie, and Bill Murray are among the supporting cast.'], ['Scott Derrickson (born July 16, 1966) is an American director, screenwriter and producer.', ' He lives in Los Angeles, California.', ' He is best known for directing horror films such as \"Sinister\", \"The Exorcism of Emily Rose\", and \"Deliver Us From Evil\", as well as the 2016 Marvel Cinematic Universe installment, \"Doctor Strange.\"'], ['Woodson is a census-designated place (CDP) in Pulaski County, Arkansas, in the United States.', ' Its population was 403 at the 2010 census.', ' It is part of the Little Rock–North Little Rock–Conway Metropolitan Statistical Area.', ' Woodson and its accompanying Woodson Lake and Wood Hollow are the namesake for Ed Wood Sr., a prominent plantation owner, trader, and businessman at the turn of the 20th century.', ' Woodson is adjacent to the Wood Plantation, the largest of the plantations own by Ed Wood Sr.'], ['Tyler Bates (born June 5, 1965) is an American musician, music producer, and composer for films, television, and video games.', ' Much of his work is in the action and horror film genres, with films like \"Dawn of the Dead, 300, Sucker Punch,\" and \"John Wick.\"', ' He has collaborated with directors like Zack Snyder, Rob Zombie, Neil Marshall, William Friedkin, Scott Derrickson, and James Gunn.', ' With Gunn, he has scored every one of the director\\'s films; including \"Guardians of the Galaxy\", which became one of the highest grossing domestic movies of 2014, and its 2017 sequel.', ' In addition, he is also the lead guitarist of the American rock band Marilyn Manson, and produced its albums \"The Pale Emperor\" and \"Heaven Upside Down\".'], ['Edward Davis Wood Jr. (October 10, 1924 – December 10, 1978) was an American filmmaker, actor, writer, producer, and director.'], ['Deliver Us from Evil is a 2014 American supernatural horror film directed by Scott Derrickson and produced by Jerry Bruckheimer.', ' The film is officially based on a 2001 non-fiction book entitled \"Beware the Night\" by Ralph Sarchie and Lisa Collier Cool, and its marketing campaign highlighted that it was \"inspired by actual accounts\".', ' The film stars Eric Bana, Édgar Ramírez, Sean Harris, Olivia Munn, and Joel McHale in the main roles and was released on July 2, 2014.'], ['Adam Collis is an American filmmaker and actor.', ' He attended the Duke University from 1986 to 1990 and the University of California, Los Angeles from 2007 to 2010.', ' He also studied cinema at the University of Southern California from 1991 to 1997.', ' Collis first work was the assistant director for the Scott Derrickson\\'s short \"Love in the Ruins\" (1995).', ' In 1998, he played \"Crankshaft\" in Eric Koyanagi\\'s \"Hundred Percent\".'], ['Sinister is a 2012 supernatural horror film directed by Scott Derrickson and written by Derrickson and C. Robert Cargill.', ' It stars Ethan Hawke as fictional true-crime writer Ellison Oswalt who discovers a box of home movies in his attic that puts his family in danger.'], ['Conrad Brooks (born Conrad Biedrzycki on January 3, 1931 in Baltimore, Maryland) is an American actor.', ' He moved to Hollywood, California in 1948 to pursue a career in acting.', ' He got his start in movies appearing in Ed Wood films such as \"Plan 9 from Outer Space\", \"Glen or Glenda\", and \"Jail Bait.\"', ' He took a break from acting during the 1960s and 1970s but due to the ongoing interest in the films of Ed Wood, he reemerged in the 1980s and has become a prolific actor.', ' He also has since gone on to write, produce and direct several films.'], ['Doctor Strange is a 2016 American superhero film based on the Marvel Comics character of the same name, produced by Marvel Studios and distributed by Walt Disney Studios Motion Pictures.', ' It is the fourteenth film of the Marvel Cinematic Universe (MCU).', ' The film was directed by Scott Derrickson, who wrote it with Jon Spaihts and C. Robert Cargill, and stars Benedict Cumberbatch as Stephen Strange, along with Chiwetel Ejiofor, Rachel McAdams, Benedict Wong, Michael Stuhlbarg, Benjamin Bratt, Scott Adkins, Mads Mikkelsen, and Tilda Swinton.', ' In \"Doctor Strange\", surgeon Strange learns the mystic arts after a career-ending car accident.']]}}\n",
      "{'id': '5a8b57f25542995d1e6f1371', 'question': 'Were Scott Derrickson and Ed Wood of the same nationality?', 'answer': 'yes', 'type': 'comparison', 'level': 'hard', 'supporting_facts': {'title': ['Scott Derrickson', 'Ed Wood'], 'sent_id': [0, 0]}, 'context': {'title': ['Adam Collis', 'Ed Wood (film)', 'Tyler Bates', 'Doctor Strange (2016 film)', 'Hellraiser: Inferno', 'Sinister (film)', 'Deliver Us from Evil (2014 film)', 'Woodson, Arkansas', 'Conrad Brooks', 'The Exorcism of Emily Rose'], 'sentences': [['Adam Collis is an American filmmaker and actor.', ' He attended the Duke University from 1986 to 1990 and the University of California, Los Angeles from 2007 to 2010.', ' He also studied cinema at the University of Southern California from 1991 to 1997.', ' Collis first work was the assistant director for the Scott Derrickson\\'s short \"Love in the Ruins\" (1995).', ' In 1998, he played \"Crankshaft\" in Eric Koyanagi\\'s \"Hundred Percent\".'], ['Ed Wood is a 1994 American biographical period comedy-drama film directed and produced by Tim Burton, and starring Johnny Depp as cult filmmaker Ed Wood.', \" The film concerns the period in Wood's life when he made his best-known films as well as his relationship with actor Bela Lugosi, played by Martin Landau.\", ' Sarah Jessica Parker, Patricia Arquette, Jeffrey Jones, Lisa Marie, and Bill Murray are among the supporting cast.'], ['Tyler Bates (born June 5, 1965) is an American musician, music producer, and composer for films, television, and video games.', ' Much of his work is in the action and horror film genres, with films like \"Dawn of the Dead, 300, Sucker Punch,\" and \"John Wick.\"', ' He has collaborated with directors like Zack Snyder, Rob Zombie, Neil Marshall, William Friedkin, Scott Derrickson, and James Gunn.', ' With Gunn, he has scored every one of the director\\'s films; including \"Guardians of the Galaxy\", which became one of the highest grossing domestic movies of 2014, and its 2017 sequel.', ' In addition, he is also the lead guitarist of the American rock band Marilyn Manson, and produced its albums \"The Pale Emperor\" and \"Heaven Upside Down\".'], ['Doctor Strange is a 2016 American superhero film based on the Marvel Comics character of the same name, produced by Marvel Studios and distributed by Walt Disney Studios Motion Pictures.', ' It is the fourteenth film of the Marvel Cinematic Universe (MCU).', ' The film was directed by Scott Derrickson, who wrote it with Jon Spaihts and C. Robert Cargill, and stars Benedict Cumberbatch as Stephen Strange, along with Chiwetel Ejiofor, Rachel McAdams, Benedict Wong, Michael Stuhlbarg, Benjamin Bratt, Scott Adkins, Mads Mikkelsen, and Tilda Swinton.', ' In \"Doctor Strange\", surgeon Strange learns the mystic arts after a career-ending car accident.'], ['Hellraiser: Inferno (also known as Hellraiser V: Inferno) is a 2000 American horror film.', ' It is the fifth installment in the \"Hellraiser\" series and the first \"Hellraiser\" film to go straight-to-DVD.', ' It was directed by Scott Derrickson and released on October 3, 2000.', \" The film concerns a corrupt detective who discovers Lemarchand's box at a crime scene.\", \" The film's reviews were mixed.\"], ['Sinister is a 2012 supernatural horror film directed by Scott Derrickson and written by Derrickson and C. Robert Cargill.', ' It stars Ethan Hawke as fictional true-crime writer Ellison Oswalt who discovers a box of home movies in his attic that puts his family in danger.'], ['Deliver Us from Evil is a 2014 American supernatural horror film directed by Scott Derrickson and produced by Jerry Bruckheimer.', ' The film is officially based on a 2001 non-fiction book entitled \"Beware the Night\" by Ralph Sarchie and Lisa Collier Cool, and its marketing campaign highlighted that it was \"inspired by actual accounts\".', ' The film stars Eric Bana, Édgar Ramírez, Sean Harris, Olivia Munn, and Joel McHale in the main roles and was released on July 2, 2014.'], ['Woodson is a census-designated place (CDP) in Pulaski County, Arkansas, in the United States.', ' Its population was 403 at the 2010 census.', ' It is part of the Little Rock–North Little Rock–Conway Metropolitan Statistical Area.', ' Woodson and its accompanying Woodson Lake and Wood Hollow are the namesake for Ed Wood Sr., a prominent plantation owner, trader, and businessman at the turn of the 20th century.', ' Woodson is adjacent to the Wood Plantation, the largest of the plantations own by Ed Wood Sr.'], ['Conrad Brooks (born Conrad Biedrzycki on January 3, 1931 in Baltimore, Maryland) is an American actor.', ' He moved to Hollywood, California in 1948 to pursue a career in acting.', ' He got his start in movies appearing in Ed Wood films such as \"Plan 9 from Outer Space\", \"Glen or Glenda\", and \"Jail Bait.\"', ' He took a break from acting during the 1960s and 1970s but due to the ongoing interest in the films of Ed Wood, he reemerged in the 1980s and has become a prolific actor.', ' He also has since gone on to write, produce and direct several films.'], ['The Exorcism of Emily Rose is a 2005 American legal drama horror film directed by Scott Derrickson and starring Laura Linney and Tom Wilkinson.', ' The film is loosely based on the story of Anneliese Michel and follows a self-proclaimed agnostic who acts as defense counsel (Linney) representing a parish priest (Wilkinson), accused by the state of negligent homicide after he performed an exorcism.']]}}\n"
     ]
    }
   ],
   "source": [
    "for disc, full in zip(ds[\"validation\"], ds_full[\"validation\"]):\n",
    "    if disc != full:\n",
    "        print(disc)\n",
    "        print(full)\n",
    "        break"
   ]
  },
  {
   "cell_type": "markdown",
   "metadata": {},
   "source": [
    "distractor is what we want to use as there we are guaranteed to have the 2 gold passages included"
   ]
  },
  {
   "cell_type": "code",
   "execution_count": 37,
   "metadata": {},
   "outputs": [
    {
     "data": {
      "text/plain": [
       "17972"
      ]
     },
     "execution_count": 37,
     "metadata": {},
     "output_type": "execute_result"
    }
   ],
   "source": [
    "easy_ones = [sample for sample in ds[\"train\"] if sample[\"level\"] == \"easy\"]\n",
    "len(easy_ones)"
   ]
  },
  {
   "cell_type": "code",
   "execution_count": 41,
   "metadata": {},
   "outputs": [
    {
     "data": {
      "text/plain": [
       "{'id': '5ab698885542995eadef002a',\n",
       " 'question': 'American politician Joe Heck ran unsuccessfully against Democrat Catherine Cortez Masto, a woman who previously served as the 32nd Attorney General of where?',\n",
       " 'answer': 'Nevada',\n",
       " 'type': 'bridge',\n",
       " 'level': 'easy',\n",
       " 'supporting_facts': {'title': ['Joe Heck',\n",
       "   'Joe Heck',\n",
       "   'Catherine Cortez Masto'],\n",
       "  'sent_id': [0, 2, 2]},\n",
       " 'context': {'title': ['Kamala Harris',\n",
       "   'Maryland Attorney General election, 2014',\n",
       "   'Corey Palumbo',\n",
       "   'Catherine Cortez Masto',\n",
       "   'Joe Heck',\n",
       "   'List of United States Senators from Nevada',\n",
       "   'Dennis Heck',\n",
       "   'Samuel D. Jackson',\n",
       "   'George Henry Williams',\n",
       "   'Jeff Harris (politician)'],\n",
       "  'sentences': [['Kamala Devi Harris ( , ; born October 20, 1964) is an American attorney and politician.',\n",
       "    ' A member of the Democratic Party, she currently serves as the junior senator from California.',\n",
       "    ' She previously served as the 32nd Attorney General of California.'],\n",
       "   ['The Maryland Attorney General election of 2014 was held on November 4, 2014, to elect the Attorney General of Maryland.',\n",
       "    ' Incumbent Democratic Attorney General Doug Gansler was eligible to seek a third term in office, but instead ran unsuccessfully for the Democratic nomination for Governor of Maryland.'],\n",
       "   ['Corey Lee Palumbo (born August 16, 1972) is a West Virginia State Senator representing the 17th district in the West Virginia Senate.',\n",
       "    ' A state senator since 2009, he previously served as a member of the West Virginia House of Delegates from 2003 to 2009.',\n",
       "    ' He is the son of Mario Palumbo, the 32nd Attorney General of West Virginia as well as a former five-term state senator.'],\n",
       "   ['Catherine Marie Cortez Masto (born March 29, 1964) is an American attorney and politician who is the junior United States Senator from Nevada.',\n",
       "    ' She is a member of the Democratic Party.',\n",
       "    ' She previously served as the 32nd Attorney General of Nevada from 2007 to 2015.'],\n",
       "   [\"Joseph John “Joe” Heck (born October 30, 1961) is an American politician, physician, and U.S. Army Brigadier General who had served as the U.S. Representative for Nevada's 3rd congressional district from 2011 to 2017.\",\n",
       "    ' Heck, a member of the Republican Party, is a board-certified physician and served as a Nevada State Senator from 2004-08.',\n",
       "    ' He ran unsuccessfully against Democrat Catherine Cortez Masto in the general election for the open Nevada United States Senate seat in 2016.',\n",
       "    ' In the same year, Heck made headlines by joining a long list of Republicans who opposed the GOP nominee for President, Donald Trump.'],\n",
       "   ['Nevada was admitted to the Union on October 31, 1864.',\n",
       "    ' Its current senators are Democrat Catherine Cortez Masto (Class 3) and Republican Dean Heller (Class 1).'],\n",
       "   ['Dennis Lynn \"Denny\" Heck (born July 29, 1952) is an American politician who has been the United States Representative for Washington\\'s 10th congressional district since 2013.',\n",
       "    ' Heck was previously the Democratic nominee for U.S. Representative for the 3rd district in 2010, but was defeated by Jaime Herrera Beutler (R).',\n",
       "    ' In 2012 Heck ran and won in the newly created 10th district, defeating Republican Dick Muri.'],\n",
       "   ['Samuel Dillon Jackson (May 28, 1895March 8, 1951) was a United States Senator from Indiana.',\n",
       "    ' Born near Zanesville, Indiana, he attended the public schools of Fort Wayne and graduated from a predecessor of the now Indiana University Robert H. McKinney School of Law in Indianapolis in 1917, gaining admission to the bar the same year.',\n",
       "    ' During the First World War, he served as a captain of infantry from 1917 to 1919, and engaged in the practice of law at Fort Wayne in 1919.',\n",
       "    ' He was prosecuting attorney of Allen County from 1924 to 1928.',\n",
       "    ' He ran unsuccessfully as a Democrat for election in 1928 to the Seventy-first Congress, and was attorney general of Indiana from 1940 to 1941.',\n",
       "    ' On January 28, 1944, he was appointed as a Democrat to the U.S. Senate to fill the vacancy caused by the death of Frederick Van Nuys and served from January 28, 1944, to November 13, 1944, when a duly elected successor qualified.',\n",
       "    ' Jackson was not a candidate for election to fill the vacancy, and was an unsuccessful Democratic candidate for Governor of Indiana in 1944.',\n",
       "    ' He resumed the practice of law, and died in Fort Wayne in 1951; interment was in Lindenwood Cemetery.'],\n",
       "   ['George Henry Williams (March 26, 1823April 4, 1910) was an American judge and politician.',\n",
       "    \" He served as Chief Justice of the Oregon Supreme Court, was the 32nd Attorney General of the United States, and was elected Oregon's U.S. Senator, and served one term.\",\n",
       "    ' Williams, as U.S. Senator, authored and supported legislation that allowed the U.S. military to be deployed in Reconstruction southern states to allow for an orderly process of readmittance into the United States.',\n",
       "    ' Williams was the first presidential Cabinet member to be appointed from the Pacific Coast.',\n",
       "    ' As attorney general under President Ulysses S. Grant, Williams continued the prosecutions that shut down the Ku Klux Klan.',\n",
       "    ' He had to contend with controversial election disputes in Reconstructed southern states.',\n",
       "    ' President Grant and Williams legally recognized P. B. S. Pinchback as the first African American state governor.',\n",
       "    ' Williams ruled that the \"Virginius\", a gun-running ship captured by Spain during the Virginius Affair, did not have the right to bear the U.S. flag.',\n",
       "    ' However, he argued that Spain did not have the right to execute American crew members.',\n",
       "    \" Nominated for Supreme Court Chief Justice by President Grant, Williams failed to be confirmed by the U.S. Senate primarily due to Williams' removal of A. C. Gibbs United States District Attorney at Portland, Oregon.\"],\n",
       "   ['Jeff Harris (born October 7, 1964) is an attorney and a Missouri Democratic politician.',\n",
       "    ' He represented the 23rd District of Missouri in the Missouri House of Representatives from 2003–2009 and ran unsuccessfully for the office of attorney general in 2008.',\n",
       "    ' He served as Minority Floor Leader before giving up the post in order to focus more time on the attorney general race.']]}}"
      ]
     },
     "execution_count": 41,
     "metadata": {},
     "output_type": "execute_result"
    }
   ],
   "source": [
    "easy_ones[4]"
   ]
  },
  {
   "cell_type": "markdown",
   "metadata": {},
   "source": [
    "# Creating the dataset"
   ]
  },
  {
   "cell_type": "code",
   "execution_count": 54,
   "metadata": {},
   "outputs": [],
   "source": [
    "ds = load_dataset(\"hotpot_qa\", name=\"distractor\")"
   ]
  },
  {
   "cell_type": "code",
   "execution_count": 55,
   "metadata": {},
   "outputs": [
    {
     "data": {
      "text/plain": [
       "{'id': '5a8b57f25542995d1e6f1371',\n",
       " 'question': 'Were Scott Derrickson and Ed Wood of the same nationality?',\n",
       " 'answer': 'yes',\n",
       " 'type': 'comparison',\n",
       " 'level': 'hard',\n",
       " 'supporting_facts': {'title': ['Scott Derrickson', 'Ed Wood'],\n",
       "  'sent_id': [0, 0]},\n",
       " 'context': {'title': ['Ed Wood (film)',\n",
       "   'Scott Derrickson',\n",
       "   'Woodson, Arkansas',\n",
       "   'Tyler Bates',\n",
       "   'Ed Wood',\n",
       "   'Deliver Us from Evil (2014 film)',\n",
       "   'Adam Collis',\n",
       "   'Sinister (film)',\n",
       "   'Conrad Brooks',\n",
       "   'Doctor Strange (2016 film)'],\n",
       "  'sentences': [['Ed Wood is a 1994 American biographical period comedy-drama film directed and produced by Tim Burton, and starring Johnny Depp as cult filmmaker Ed Wood.',\n",
       "    \" The film concerns the period in Wood's life when he made his best-known films as well as his relationship with actor Bela Lugosi, played by Martin Landau.\",\n",
       "    ' Sarah Jessica Parker, Patricia Arquette, Jeffrey Jones, Lisa Marie, and Bill Murray are among the supporting cast.'],\n",
       "   ['Scott Derrickson (born July 16, 1966) is an American director, screenwriter and producer.',\n",
       "    ' He lives in Los Angeles, California.',\n",
       "    ' He is best known for directing horror films such as \"Sinister\", \"The Exorcism of Emily Rose\", and \"Deliver Us From Evil\", as well as the 2016 Marvel Cinematic Universe installment, \"Doctor Strange.\"'],\n",
       "   ['Woodson is a census-designated place (CDP) in Pulaski County, Arkansas, in the United States.',\n",
       "    ' Its population was 403 at the 2010 census.',\n",
       "    ' It is part of the Little Rock–North Little Rock–Conway Metropolitan Statistical Area.',\n",
       "    ' Woodson and its accompanying Woodson Lake and Wood Hollow are the namesake for Ed Wood Sr., a prominent plantation owner, trader, and businessman at the turn of the 20th century.',\n",
       "    ' Woodson is adjacent to the Wood Plantation, the largest of the plantations own by Ed Wood Sr.'],\n",
       "   ['Tyler Bates (born June 5, 1965) is an American musician, music producer, and composer for films, television, and video games.',\n",
       "    ' Much of his work is in the action and horror film genres, with films like \"Dawn of the Dead, 300, Sucker Punch,\" and \"John Wick.\"',\n",
       "    ' He has collaborated with directors like Zack Snyder, Rob Zombie, Neil Marshall, William Friedkin, Scott Derrickson, and James Gunn.',\n",
       "    ' With Gunn, he has scored every one of the director\\'s films; including \"Guardians of the Galaxy\", which became one of the highest grossing domestic movies of 2014, and its 2017 sequel.',\n",
       "    ' In addition, he is also the lead guitarist of the American rock band Marilyn Manson, and produced its albums \"The Pale Emperor\" and \"Heaven Upside Down\".'],\n",
       "   ['Edward Davis Wood Jr. (October 10, 1924 – December 10, 1978) was an American filmmaker, actor, writer, producer, and director.'],\n",
       "   ['Deliver Us from Evil is a 2014 American supernatural horror film directed by Scott Derrickson and produced by Jerry Bruckheimer.',\n",
       "    ' The film is officially based on a 2001 non-fiction book entitled \"Beware the Night\" by Ralph Sarchie and Lisa Collier Cool, and its marketing campaign highlighted that it was \"inspired by actual accounts\".',\n",
       "    ' The film stars Eric Bana, Édgar Ramírez, Sean Harris, Olivia Munn, and Joel McHale in the main roles and was released on July 2, 2014.'],\n",
       "   ['Adam Collis is an American filmmaker and actor.',\n",
       "    ' He attended the Duke University from 1986 to 1990 and the University of California, Los Angeles from 2007 to 2010.',\n",
       "    ' He also studied cinema at the University of Southern California from 1991 to 1997.',\n",
       "    ' Collis first work was the assistant director for the Scott Derrickson\\'s short \"Love in the Ruins\" (1995).',\n",
       "    ' In 1998, he played \"Crankshaft\" in Eric Koyanagi\\'s \"Hundred Percent\".'],\n",
       "   ['Sinister is a 2012 supernatural horror film directed by Scott Derrickson and written by Derrickson and C. Robert Cargill.',\n",
       "    ' It stars Ethan Hawke as fictional true-crime writer Ellison Oswalt who discovers a box of home movies in his attic that puts his family in danger.'],\n",
       "   ['Conrad Brooks (born Conrad Biedrzycki on January 3, 1931 in Baltimore, Maryland) is an American actor.',\n",
       "    ' He moved to Hollywood, California in 1948 to pursue a career in acting.',\n",
       "    ' He got his start in movies appearing in Ed Wood films such as \"Plan 9 from Outer Space\", \"Glen or Glenda\", and \"Jail Bait.\"',\n",
       "    ' He took a break from acting during the 1960s and 1970s but due to the ongoing interest in the films of Ed Wood, he reemerged in the 1980s and has become a prolific actor.',\n",
       "    ' He also has since gone on to write, produce and direct several films.'],\n",
       "   ['Doctor Strange is a 2016 American superhero film based on the Marvel Comics character of the same name, produced by Marvel Studios and distributed by Walt Disney Studios Motion Pictures.',\n",
       "    ' It is the fourteenth film of the Marvel Cinematic Universe (MCU).',\n",
       "    ' The film was directed by Scott Derrickson, who wrote it with Jon Spaihts and C. Robert Cargill, and stars Benedict Cumberbatch as Stephen Strange, along with Chiwetel Ejiofor, Rachel McAdams, Benedict Wong, Michael Stuhlbarg, Benjamin Bratt, Scott Adkins, Mads Mikkelsen, and Tilda Swinton.',\n",
       "    ' In \"Doctor Strange\", surgeon Strange learns the mystic arts after a career-ending car accident.']]}}"
      ]
     },
     "execution_count": 55,
     "metadata": {},
     "output_type": "execute_result"
    }
   ],
   "source": [
    "example = ds[\"validation\"][0]\n",
    "example"
   ]
  },
  {
   "cell_type": "code",
   "execution_count": 56,
   "metadata": {},
   "outputs": [
    {
     "data": {
      "text/plain": [
       "[\"Ed Wood is a 1994 American biographical period comedy-drama film directed and produced by Tim Burton, and starring Johnny Depp as cult filmmaker Ed Wood. The film concerns the period in Wood's life when he made his best-known films as well as his relationship with actor Bela Lugosi, played by Martin Landau. Sarah Jessica Parker, Patricia Arquette, Jeffrey Jones, Lisa Marie, and Bill Murray are among the supporting cast.\",\n",
       " 'Woodson is a census-designated place (CDP) in Pulaski County, Arkansas, in the United States. Its population was 403 at the 2010 census. It is part of the Little Rock–North Little Rock–Conway Metropolitan Statistical Area. Woodson and its accompanying Woodson Lake and Wood Hollow are the namesake for Ed Wood Sr., a prominent plantation owner, trader, and businessman at the turn of the 20th century. Woodson is adjacent to the Wood Plantation, the largest of the plantations own by Ed Wood Sr.',\n",
       " 'Tyler Bates (born June 5, 1965) is an American musician, music producer, and composer for films, television, and video games. Much of his work is in the action and horror film genres, with films like \"Dawn of the Dead, 300, Sucker Punch,\" and \"John Wick.\" He has collaborated with directors like Zack Snyder, Rob Zombie, Neil Marshall, William Friedkin, Scott Derrickson, and James Gunn. With Gunn, he has scored every one of the director\\'s films; including \"Guardians of the Galaxy\", which became one of the highest grossing domestic movies of 2014, and its 2017 sequel. In addition, he is also the lead guitarist of the American rock band Marilyn Manson, and produced its albums \"The Pale Emperor\" and \"Heaven Upside Down\".',\n",
       " 'Deliver Us from Evil is a 2014 American supernatural horror film directed by Scott Derrickson and produced by Jerry Bruckheimer. The film is officially based on a 2001 non-fiction book entitled \"Beware the Night\" by Ralph Sarchie and Lisa Collier Cool, and its marketing campaign highlighted that it was \"inspired by actual accounts\". The film stars Eric Bana, Édgar Ramírez, Sean Harris, Olivia Munn, and Joel McHale in the main roles and was released on July 2, 2014.',\n",
       " 'Adam Collis is an American filmmaker and actor. He attended the Duke University from 1986 to 1990 and the University of California, Los Angeles from 2007 to 2010. He also studied cinema at the University of Southern California from 1991 to 1997. Collis first work was the assistant director for the Scott Derrickson\\'s short \"Love in the Ruins\" (1995). In 1998, he played \"Crankshaft\" in Eric Koyanagi\\'s \"Hundred Percent\".',\n",
       " 'Sinister is a 2012 supernatural horror film directed by Scott Derrickson and written by Derrickson and C. Robert Cargill. It stars Ethan Hawke as fictional true-crime writer Ellison Oswalt who discovers a box of home movies in his attic that puts his family in danger.',\n",
       " 'Conrad Brooks (born Conrad Biedrzycki on January 3, 1931 in Baltimore, Maryland) is an American actor. He moved to Hollywood, California in 1948 to pursue a career in acting. He got his start in movies appearing in Ed Wood films such as \"Plan 9 from Outer Space\", \"Glen or Glenda\", and \"Jail Bait.\" He took a break from acting during the 1960s and 1970s but due to the ongoing interest in the films of Ed Wood, he reemerged in the 1980s and has become a prolific actor. He also has since gone on to write, produce and direct several films.',\n",
       " 'Doctor Strange is a 2016 American superhero film based on the Marvel Comics character of the same name, produced by Marvel Studios and distributed by Walt Disney Studios Motion Pictures. It is the fourteenth film of the Marvel Cinematic Universe (MCU). The film was directed by Scott Derrickson, who wrote it with Jon Spaihts and C. Robert Cargill, and stars Benedict Cumberbatch as Stephen Strange, along with Chiwetel Ejiofor, Rachel McAdams, Benedict Wong, Michael Stuhlbarg, Benjamin Bratt, Scott Adkins, Mads Mikkelsen, and Tilda Swinton. In \"Doctor Strange\", surgeon Strange learns the mystic arts after a career-ending car accident.']"
      ]
     },
     "execution_count": 56,
     "metadata": {},
     "output_type": "execute_result"
    }
   ],
   "source": [
    "gold_titles = example[\"supporting_facts\"][\"title\"]\n",
    "gold_context_idxs = [example[\"context\"][\"title\"].index(gold_title) for gold_title in gold_titles]\n",
    "gold_contexts = [\"\".join(example[\"context\"][\"sentences\"][idx]) for idx in gold_context_idxs]\n",
    "distractor_context_ids = [idx for idx in range(len(example[\"context\"][\"title\"])) if idx not in gold_context_idxs]\n",
    "distractor_contexts = [\"\".join(example[\"context\"][\"sentences\"][idx]) for idx in distractor_context_ids]\n",
    "distractor_contexts"
   ]
  },
  {
   "cell_type": "code",
   "execution_count": 57,
   "metadata": {},
   "outputs": [],
   "source": [
    "context_relevance_ds = []\n",
    "for example in ds[\"validation\"]:\n",
    "    gold_titles = example[\"supporting_facts\"][\"title\"]\n",
    "    gold_context_idxs = [example[\"context\"][\"title\"].index(gold_title) for gold_title in gold_titles]\n",
    "    gold_contexts = [\"\".join(example[\"context\"][\"sentences\"][idx]) for idx in gold_context_idxs]\n",
    "    distractor_context_ids = [idx for idx in range(len(example[\"context\"][\"title\"])) if idx not in gold_context_idxs]\n",
    "    distractor_contexts = [\"\".join(example[\"context\"][\"sentences\"][idx]) for idx in distractor_context_ids]\n",
    "    for gold_context in gold_contexts:\n",
    "        context_relevance_ds.append(\n",
    "            {\n",
    "                \"id\": example[\"id\"],\n",
    "                \"source\": \"hotpot_qa/distractor/validation\",\n",
    "                \"question\": example[\"question\"],\n",
    "                \"answer\": example[\"answer\"],\n",
    "                \"context\": gold_context,\n",
    "                \"relevance\": \"partial\",\n",
    "                \"relevance_value\": 0.5,\n",
    "                \"type\": \"gold_context_part\",\n",
    "            }\n",
    "        )\n",
    "    context_relevance_ds.append(\n",
    "        {\n",
    "            \"id\": example[\"id\"],\n",
    "            \"source\": \"hotpot_qa/distractor/validation\",\n",
    "            \"question\": example[\"question\"],\n",
    "            \"answer\": example[\"answer\"],\n",
    "            \"context\": \"\\n\".join(gold_contexts),\n",
    "            \"relevance\": \"full\",\n",
    "            \"relevance_value\": 1.0,\n",
    "            \"type\": \"gold_context_full\",\n",
    "        }\n",
    "    )\n",
    "    for distractor_context in distractor_contexts:\n",
    "        context_relevance_ds.append(\n",
    "            {\n",
    "                \"id\": example[\"id\"],\n",
    "                \"source\": \"hotpot_qa/distractor/validation\",\n",
    "                \"question\": example[\"question\"],\n",
    "                \"answer\": example[\"answer\"],\n",
    "                \"context\": distractor_context,\n",
    "                \"relevance\": \"not_relevant\",\n",
    "                \"relevance_value\": 0.0,\n",
    "                \"type\": \"distractor_context_part\",\n",
    "            }\n",
    "        )\n",
    "    context_relevance_ds.append(\n",
    "        {\n",
    "            \"id\": example[\"id\"],\n",
    "            \"source\": \"hotpot_qa/distractor/validation\",\n",
    "            \"question\": example[\"question\"],\n",
    "            \"answer\": example[\"answer\"],\n",
    "            \"context\": \"\\n\".join(distractor_contexts),\n",
    "            \"relevance\": \"not_relevant\",\n",
    "            \"relevance_value\": 0.0,\n",
    "            \"type\": \"distractor_context_full\",\n",
    "        }\n",
    "    )"
   ]
  },
  {
   "cell_type": "code",
   "execution_count": 58,
   "metadata": {},
   "outputs": [
    {
     "data": {
      "text/plain": [
       "91705"
      ]
     },
     "execution_count": 58,
     "metadata": {},
     "output_type": "execute_result"
    }
   ],
   "source": [
    "len(context_relevance_ds)"
   ]
  },
  {
   "cell_type": "code",
   "execution_count": 59,
   "metadata": {},
   "outputs": [
    {
     "data": {
      "text/plain": [
       "{'id': '5a8b57f25542995d1e6f1371',\n",
       " 'source': 'hotpot_qa/distractor/validation',\n",
       " 'question': 'Were Scott Derrickson and Ed Wood of the same nationality?',\n",
       " 'answer': 'yes',\n",
       " 'context': 'Scott Derrickson (born July 16, 1966) is an American director, screenwriter and producer. He lives in Los Angeles, California. He is best known for directing horror films such as \"Sinister\", \"The Exorcism of Emily Rose\", and \"Deliver Us From Evil\", as well as the 2016 Marvel Cinematic Universe installment, \"Doctor Strange.\"',\n",
       " 'relevance': 'partial',\n",
       " 'relevance_value': 0.5,\n",
       " 'type': 'gold_context_part'}"
      ]
     },
     "execution_count": 59,
     "metadata": {},
     "output_type": "execute_result"
    }
   ],
   "source": [
    "context_relevance_ds[0]"
   ]
  },
  {
   "cell_type": "markdown",
   "metadata": {},
   "source": [
    "# Building the Pipeline"
   ]
  },
  {
   "cell_type": "markdown",
   "metadata": {},
   "source": [
    "Prompt has been checked with gpt-4o and Claude Sonnet 3.5. It seems to work quite well."
   ]
  },
  {
   "cell_type": "code",
   "execution_count": 22,
   "metadata": {},
   "outputs": [],
   "source": [
    "from haystack.components.builders import PromptBuilder\n",
    "\n",
    "template= \"\"\"You are evaluating a search system.\n",
    "You have to decide, if a retrieved paragraph is relevant to the user's question.\n",
    "\n",
    "A relevant paragraph is a paragraph that helps to answers the question.\n",
    "\n",
    "Use the following rating scheme:\n",
    "1.0: covers full answer\n",
    "0.5: contributes to the answer\n",
    "0.0: not relevant\n",
    "\n",
    "Think step by step. First try to answer the question. If you can, you have to rate 1.0. If not decide between 0.5 and 0.0.\n",
    "Describe why you chose the rating. Do not repeat the rating scheme.\n",
    "Finally, put out your rating of the relevance as number using the following notation without any markdown or text around it:\n",
    "\n",
    "\"Rating: \"\n",
    "\n",
    "Here is the paragraph:\n",
    "\n",
    "{{ context }}\n",
    "\n",
    "Here is the question: {{ question }}\n",
    "\n",
    "\"\"\"\n",
    "\n",
    "prompt_builder = PromptBuilder(template=template)"
   ]
  },
  {
   "cell_type": "code",
   "execution_count": 23,
   "metadata": {},
   "outputs": [],
   "source": [
    "import os\n",
    "from haystack.components.generators import OpenAIGenerator\n",
    "\n",
    "os.environ[\"OPENAI_API_KEY\"] = \"INSERT_OPENAI_API_KEY_HERE\"\n",
    "\n",
    "generator = OpenAIGenerator(model=\"gpt-4o\", generation_kwargs={\"temperature\": 0.0})"
   ]
  },
  {
   "cell_type": "code",
   "execution_count": 24,
   "metadata": {},
   "outputs": [],
   "source": [
    "import os\n",
    "from haystack_integrations.components.generators.amazon_bedrock.generator import AmazonBedrockGenerator\n",
    "\n",
    "# insert AWS config here\n",
    "os.environ[\"AWS_PROFILE\"] = \"\"\n",
    "os.environ[\"AWS_DEFAULT_REGION\"] = \"us-east-1\"\n",
    "\n",
    "generator = AmazonBedrockGenerator(model=\"anthropic.claude-3-5-sonnet-20240620-v1:0\", max_length=1000, temperature=0.0)"
   ]
  },
  {
   "cell_type": "code",
   "execution_count": 25,
   "metadata": {},
   "outputs": [],
   "source": [
    "from deepset_cloud_custom_nodes import DeepsetAnswerBuilder\n",
    "\n",
    "reasoning_extractor = DeepsetAnswerBuilder()\n",
    "rating_extractor = DeepsetAnswerBuilder(pattern=r\"Rating: ([0-9.]+)\")"
   ]
  },
  {
   "cell_type": "code",
   "execution_count": 26,
   "metadata": {},
   "outputs": [],
   "source": [
    "from haystack import Pipeline\n",
    "\n",
    "pipeline = Pipeline()\n",
    "pipeline.add_component(instance=prompt_builder, name=\"prompt_builder\")\n",
    "pipeline.add_component(instance=generator, name=\"generator\")\n",
    "pipeline.add_component(instance=rating_extractor, name=\"rating_extractor\")\n",
    "pipeline.add_component(instance=reasoning_extractor, name=\"reasoning_extractor\")"
   ]
  },
  {
   "cell_type": "code",
   "execution_count": 27,
   "metadata": {},
   "outputs": [
    {
     "data": {
      "text/plain": [
       "<haystack.core.pipeline.pipeline.Pipeline object at 0x73491612d790>\n",
       "🚅 Components\n",
       "  - prompt_builder: PromptBuilder\n",
       "  - generator: AmazonBedrockGenerator\n",
       "  - rating_extractor: DeepsetAnswerBuilder\n",
       "  - reasoning_extractor: DeepsetAnswerBuilder\n",
       "🛤️ Connections\n",
       "  - prompt_builder.prompt -> generator.prompt (str)\n",
       "  - prompt_builder.prompt -> rating_extractor.prompt (str)\n",
       "  - prompt_builder.prompt -> reasoning_extractor.prompt (str)\n",
       "  - generator.replies -> rating_extractor.replies (List[str])\n",
       "  - generator.replies -> reasoning_extractor.replies (List[str])"
      ]
     },
     "execution_count": 27,
     "metadata": {},
     "output_type": "execute_result"
    }
   ],
   "source": [
    "pipeline.connect(\"prompt_builder\", \"generator\")\n",
    "pipeline.connect(\"generator.replies\", \"rating_extractor.replies\")\n",
    "pipeline.connect(\"generator.replies\", \"reasoning_extractor.replies\")\n",
    "pipeline.connect(\"prompt_builder.prompt\", \"rating_extractor.prompt\")\n",
    "pipeline.connect(\"prompt_builder.prompt\", \"reasoning_extractor.prompt\")"
   ]
  },
  {
   "cell_type": "code",
   "execution_count": 82,
   "metadata": {},
   "outputs": [],
   "source": [
    "example = context_relevance_ds[0]\n",
    "question = example[\"question\"]\n",
    "context = example[\"context\"]\n",
    "\n",
    "res = pipeline.run(data={\n",
    "    \"prompt_builder\": {\"question\": question, \"context\": context}, \n",
    "    \"rating_extractor\": {\"query\": question},\n",
    "    \"reasoning_extractor\": {\"query\": question},\n",
    "    }, include_outputs_from=[\"rating_extractor\", \"reasoning_extractor\", \"generator\", \"prompt_builder\"])"
   ]
  },
  {
   "cell_type": "code",
   "execution_count": 83,
   "metadata": {},
   "outputs": [
    {
     "data": {
      "text/plain": [
       "{'rating_extractor': {'answers': [GeneratedAnswer(data='0.5', query='Were Scott Derrickson and Ed Wood of the same nationality?', documents=[], meta={'prompt': 'You are evaluating a search system.\\nYou have to decide, if a retrieved paragraph is relevant to the user\\'s question.\\n\\nA relevant paragraph is a paragraph that helps to answers the question.\\n\\nUse the following rating scheme:\\n1.0: covers full answer\\n0.5: contributes to the answer\\n0.0: not relevant\\n\\nThink step by step. First try to answer the question. If you can, you have to rate 1.0. If not decide between 0.5 and 0.0.\\nDescribe why you chose the rating. Do not repeat the rating scheme.\\nFinally, put out your rating of the relevance as number using the following notation without any markdown or text around it:\\n\\n\"Rating: \"\\n\\nHere is the paragraph:\\n\\nScott Derrickson (born July 16, 1966) is an American director, screenwriter and producer. He lives in Los Angeles, California. He is best known for directing horror films such as \"Sinister\", \"The Exorcism of Emily Rose\", and \"Deliver Us From Evil\", as well as the 2016 Marvel Cinematic Universe installment, \"Doctor Strange.\"\\n\\nHere is the question: Were Scott Derrickson and Ed Wood of the same nationality?\\n'})]},\n",
       " 'reasoning_extractor': {'answers': [GeneratedAnswer(data=\"To answer this question, we need to know the nationalities of both Scott Derrickson and Ed Wood. Let's break it down:\\n\\n1. The paragraph provides information about Scott Derrickson:\\n   - It states that Scott Derrickson is an American director, screenwriter, and producer.\\n\\n2. However, the paragraph does not provide any information about Ed Wood or his nationality.\\n\\nBased on this information:\\n\\n- We can confirm that Scott Derrickson is American.\\n- We don't have any information about Ed Wood's nationality from this paragraph.\\n\\nTo fully answer the question, we would need additional information about Ed Wood's nationality. Without that information, we cannot determine if they were of the same nationality or not.\\n\\nThe paragraph contributes partially to answering the question by providing the nationality of one of the two people in question (Scott Derrickson). However, it doesn't give us enough information to make a complete comparison.\\n\\nTherefore, I would rate this paragraph as contributing to the answer, but not covering the full answer. \\n\\nThe rating is 0.5 because it provides relevant information about Scott Derrickson's nationality, which is necessary to answer the question, but it lacks the crucial information about Ed Wood's nationality to make a complete comparison.\\n\\nRating: 0.5\", query='Were Scott Derrickson and Ed Wood of the same nationality?', documents=[], meta={'prompt': 'You are evaluating a search system.\\nYou have to decide, if a retrieved paragraph is relevant to the user\\'s question.\\n\\nA relevant paragraph is a paragraph that helps to answers the question.\\n\\nUse the following rating scheme:\\n1.0: covers full answer\\n0.5: contributes to the answer\\n0.0: not relevant\\n\\nThink step by step. First try to answer the question. If you can, you have to rate 1.0. If not decide between 0.5 and 0.0.\\nDescribe why you chose the rating. Do not repeat the rating scheme.\\nFinally, put out your rating of the relevance as number using the following notation without any markdown or text around it:\\n\\n\"Rating: \"\\n\\nHere is the paragraph:\\n\\nScott Derrickson (born July 16, 1966) is an American director, screenwriter and producer. He lives in Los Angeles, California. He is best known for directing horror films such as \"Sinister\", \"The Exorcism of Emily Rose\", and \"Deliver Us From Evil\", as well as the 2016 Marvel Cinematic Universe installment, \"Doctor Strange.\"\\n\\nHere is the question: Were Scott Derrickson and Ed Wood of the same nationality?\\n'})]},\n",
       " 'prompt_builder': {'prompt': 'You are evaluating a search system.\\nYou have to decide, if a retrieved paragraph is relevant to the user\\'s question.\\n\\nA relevant paragraph is a paragraph that helps to answers the question.\\n\\nUse the following rating scheme:\\n1.0: covers full answer\\n0.5: contributes to the answer\\n0.0: not relevant\\n\\nThink step by step. First try to answer the question. If you can, you have to rate 1.0. If not decide between 0.5 and 0.0.\\nDescribe why you chose the rating. Do not repeat the rating scheme.\\nFinally, put out your rating of the relevance as number using the following notation without any markdown or text around it:\\n\\n\"Rating: \"\\n\\nHere is the paragraph:\\n\\nScott Derrickson (born July 16, 1966) is an American director, screenwriter and producer. He lives in Los Angeles, California. He is best known for directing horror films such as \"Sinister\", \"The Exorcism of Emily Rose\", and \"Deliver Us From Evil\", as well as the 2016 Marvel Cinematic Universe installment, \"Doctor Strange.\"\\n\\nHere is the question: Were Scott Derrickson and Ed Wood of the same nationality?\\n'},\n",
       " 'generator': {'replies': [\"To answer this question, we need to know the nationalities of both Scott Derrickson and Ed Wood. Let's break it down:\\n\\n1. The paragraph provides information about Scott Derrickson:\\n   - It states that Scott Derrickson is an American director, screenwriter, and producer.\\n\\n2. However, the paragraph does not provide any information about Ed Wood or his nationality.\\n\\nBased on this information:\\n\\n- We can confirm that Scott Derrickson is American.\\n- We don't have any information about Ed Wood's nationality from this paragraph.\\n\\nTo fully answer the question, we would need additional information about Ed Wood's nationality. Without that information, we cannot determine if they were of the same nationality or not.\\n\\nThe paragraph contributes partially to answering the question by providing the nationality of one of the two people in question (Scott Derrickson). However, it doesn't give us enough information to make a complete comparison.\\n\\nTherefore, I would rate this paragraph as contributing to the answer, but not covering the full answer. \\n\\nThe rating is 0.5 because it provides relevant information about Scott Derrickson's nationality, which is necessary to answer the question, but it lacks the crucial information about Ed Wood's nationality to make a complete comparison.\\n\\nRating: 0.5\"]}}"
      ]
     },
     "execution_count": 83,
     "metadata": {},
     "output_type": "execute_result"
    }
   ],
   "source": [
    "res"
   ]
  },
  {
   "cell_type": "code",
   "execution_count": 86,
   "metadata": {},
   "outputs": [],
   "source": [
    "ids = list(set([example[\"id\"] for example in context_relevance_ds]))\n",
    "\n",
    "# sample 50 with seed\n",
    "import random\n",
    "\n",
    "random.seed(42)\n",
    "sample_ids = random.sample(ids, 250)\n",
    "\n",
    "sampled_context_relevance_ds = [example for example in context_relevance_ds if example[\"id\"] in sample_ids]"
   ]
  },
  {
   "cell_type": "code",
   "execution_count": 87,
   "metadata": {},
   "outputs": [
    {
     "data": {
      "text/plain": [
       "3100"
      ]
     },
     "execution_count": 87,
     "metadata": {},
     "output_type": "execute_result"
    }
   ],
   "source": [
    "len(sampled_context_relevance_ds)"
   ]
  },
  {
   "cell_type": "markdown",
   "metadata": {},
   "source": [
    "# Run pipeline"
   ]
  },
  {
   "cell_type": "code",
   "execution_count": null,
   "metadata": {},
   "outputs": [],
   "source": [
    "import pandas as pd\n",
    "from tqdm import tqdm\n",
    "\n",
    "for example in tqdm(sampled_context_relevance_ds):\n",
    "    question = example[\"question\"]\n",
    "    context = example[\"context\"]\n",
    "    res = pipeline.run(data={\n",
    "        \"prompt_builder\": {\"question\": question, \"context\": context}, \n",
    "        \"rating_extractor\": {\"query\": question},\n",
    "        \"reasoning_extractor\": {\"query\": question},\n",
    "        }, include_outputs_from=[\"rating_extractor\", \"reasoning_extractor\", \"generator\", \"prompt_builder\"])\n",
    "    example[\"llm_judge_rating\"] = res[\"rating_extractor\"][\"answers\"][0].data\n",
    "    example[\"llm_judge_reasoning\"] = res[\"reasoning_extractor\"][\"answers\"][0].data\n",
    "    example[\"llm_judge_prompt\"] = res[\"prompt_builder\"][\"prompt\"]\n",
    "\n",
    "    df = pd.DataFrame(sampled_context_relevance_ds)\n",
    "    df.to_csv(\"../../data/context_relevance/llm_judge_hotpot_qa_distractor_validation_sonnet3.5.csv\", index=False)"
   ]
  },
  {
   "cell_type": "code",
   "execution_count": 74,
   "metadata": {},
   "outputs": [],
   "source": [
    "right, wrong, error, very_wrong = 0, 0, 0, 0\n",
    "wrongs = []\n",
    "very_wrongs = []\n",
    "errors = []\n",
    "for sample in sampled_context_relevance_ds:\n",
    "    if sample[\"llm_judge_rating\"] == \"\":\n",
    "        error += 1\n",
    "        errors.append(sample)\n",
    "    elif float(sample[\"llm_judge_rating\"]) == sample[\"relevance_value\"]:\n",
    "        right += 1\n",
    "    else:\n",
    "        wrong += 1\n",
    "        wrongs.append(sample)\n",
    "        if abs(float(sample[\"llm_judge_rating\"]) - sample[\"relevance_value\"]) >= 1.0:\n",
    "            very_wrong += 1\n",
    "            very_wrongs.append(sample)"
   ]
  },
  {
   "cell_type": "code",
   "execution_count": 75,
   "metadata": {},
   "outputs": [
    {
     "data": {
      "text/plain": [
       "(2113, 987, 0, 50)"
      ]
     },
     "execution_count": 75,
     "metadata": {},
     "output_type": "execute_result"
    }
   ],
   "source": [
    "right, wrong, error, very_wrong"
   ]
  },
  {
   "cell_type": "code",
   "execution_count": 76,
   "metadata": {},
   "outputs": [
    {
     "data": {
      "text/plain": [
       "0.96"
      ]
     },
     "execution_count": 76,
     "metadata": {},
     "output_type": "execute_result"
    }
   ],
   "source": [
    "very_wrongs_avg = sum([float(sample[\"llm_judge_rating\"]) - sample[\"relevance_value\"] for sample in very_wrongs]) / len(very_wrongs)\n",
    "very_wrongs_avg"
   ]
  },
  {
   "cell_type": "code",
   "execution_count": 77,
   "metadata": {},
   "outputs": [
    {
     "data": {
      "text/plain": [
       "0.4746707193515704"
      ]
     },
     "execution_count": 77,
     "metadata": {},
     "output_type": "execute_result"
    }
   ],
   "source": [
    "wrongs_avg = sum([float(sample[\"llm_judge_rating\"]) - sample[\"relevance_value\"] for sample in wrongs]) / len(wrongs)\n",
    "wrongs_avg"
   ]
  },
  {
   "cell_type": "code",
   "execution_count": 82,
   "metadata": {},
   "outputs": [
    {
     "data": {
      "text/plain": [
       "{'id': '5a7e910a554299306751357f',\n",
       " 'source': 'hotpot_qa/distractor/validation',\n",
       " 'question': \"Who was the artist that recorded a duet in 1985 for the CBS TV series 'Dallas' with an artist that was born in 1951 and has twenty #1 hits?\",\n",
       " 'answer': 'Gary Morris',\n",
       " 'context': 'Louis Jordan was an American popular music innovator who recorded from the 1930s until the 1970s. During the 1940s, he was the most popular recording artist of the soon-to-be-called rhythm and blues music. Jordan had eighteen No. 1 hits, which places him as the third most successful singles artist in \"Billboard\" R&B charts history. His 1946 recording of \"Choo Choo Ch\\'Boogie\" is tied for first place for spending the most weeks (eighteen) at No. 1. Jordan\\'s success was not limited to the R&B market — he also had No. 1 hits on the Billboard Pop and Country charts.',\n",
       " 'relevance': 'not_relevant',\n",
       " 'relevance_value': 0.0,\n",
       " 'type': 'distractor_context_part',\n",
       " 'llm_judge_rating': 0.5,\n",
       " 'llm_judge_reasoning': \"Let's approach this step-by-step:\\n\\n1. First, I'll try to answer the question based on the given paragraph.\\n\\n2. The question asks about an artist who recorded a duet in 1985 for 'Dallas' with someone born in 1951 who has twenty #1 hits.\\n\\n3. The paragraph doesn't mention anything about:\\n   - A duet recorded in 1985\\n   - The TV series 'Dallas'\\n   - An artist born in 1951\\n   - Anyone with twenty #1 hits\\n\\n4. The paragraph is about Louis Jordan, who was active from the 1930s to the 1970s, which doesn't align with the 1985 timeframe in the question.\\n\\n5. While the paragraph does mention #1 hits (Jordan had eighteen), this doesn't match the twenty #1 hits mentioned in the question.\\n\\n6. Given these points, I cannot answer the question based on this paragraph.\\n\\n7. However, the paragraph does provide some information about a successful R&B artist (Louis Jordan) and mentions #1 hits, which is somewhat related to the concept of successful music artists and chart performance.\\n\\n8. While not directly relevant to answering the specific question, this information could potentially provide some context or background about successful recording artists and chart performance.\\n\\nBased on this analysis, I would rate this paragraph as marginally relevant. It doesn't help answer the specific question, but it does provide some tangentially related information about successful recording artists and chart performance.\\n\\nRating: 0.5\",\n",
       " 'llm_judge_prompt': 'You are evaluating a search system.\\nYou have to decide, if a retrieved paragraph is relevant to the user\\'s question.\\n\\nA relevant paragraph is a paragraph that helps to answers the question.\\n\\nUse the following rating scheme:\\n1.0: covers full answer\\n0.5: contributes to the answer\\n0.0: not relevant\\n\\nThink step by step. First try to answer the question. If you can, you have to rate 1.0. If not decide between 0.5 and 0.0.\\nDescribe why you chose the rating. Do not repeat the rating scheme.\\nFinally, put out your rating of the relevance as number using the following notation without any markdown or text around it:\\n\\n\"Rating: \"\\n\\nHere is the paragraph:\\n\\nLouis Jordan was an American popular music innovator who recorded from the 1930s until the 1970s. During the 1940s, he was the most popular recording artist of the soon-to-be-called rhythm and blues music. Jordan had eighteen No. 1 hits, which places him as the third most successful singles artist in \"Billboard\" R&B charts history. His 1946 recording of \"Choo Choo Ch\\'Boogie\" is tied for first place for spending the most weeks (eighteen) at No. 1. Jordan\\'s success was not limited to the R&B market — he also had No. 1 hits on the Billboard Pop and Country charts.\\n\\nHere is the question: Who was the artist that recorded a duet in 1985 for the CBS TV series \\'Dallas\\' with an artist that was born in 1951 and has twenty #1 hits?\\n'}"
      ]
     },
     "execution_count": 82,
     "metadata": {},
     "output_type": "execute_result"
    }
   ],
   "source": [
    "to_inspect = wrongs[985]\n",
    "to_inspect"
   ]
  },
  {
   "cell_type": "code",
   "execution_count": 83,
   "metadata": {},
   "outputs": [
    {
     "name": "stdout",
     "output_type": "stream",
     "text": [
      "Louis Jordan was an American popular music innovator who recorded from the 1930s until the 1970s. During the 1940s, he was the most popular recording artist of the soon-to-be-called rhythm and blues music. Jordan had eighteen No. 1 hits, which places him as the third most successful singles artist in \"Billboard\" R&B charts history. His 1946 recording of \"Choo Choo Ch'Boogie\" is tied for first place for spending the most weeks (eighteen) at No. 1. Jordan's success was not limited to the R&B market — he also had No. 1 hits on the Billboard Pop and Country charts.\n"
     ]
    }
   ],
   "source": [
    "print(to_inspect[\"context\"])"
   ]
  },
  {
   "cell_type": "code",
   "execution_count": 84,
   "metadata": {},
   "outputs": [
    {
     "name": "stdout",
     "output_type": "stream",
     "text": [
      "Let's approach this step-by-step:\n",
      "\n",
      "1. First, I'll try to answer the question based on the given paragraph.\n",
      "\n",
      "2. The question asks about an artist who recorded a duet in 1985 for 'Dallas' with someone born in 1951 who has twenty #1 hits.\n",
      "\n",
      "3. The paragraph doesn't mention anything about:\n",
      "   - A duet recorded in 1985\n",
      "   - The TV series 'Dallas'\n",
      "   - An artist born in 1951\n",
      "   - Anyone with twenty #1 hits\n",
      "\n",
      "4. The paragraph is about Louis Jordan, who was active from the 1930s to the 1970s, which doesn't align with the 1985 timeframe in the question.\n",
      "\n",
      "5. While the paragraph does mention #1 hits (Jordan had eighteen), this doesn't match the twenty #1 hits mentioned in the question.\n",
      "\n",
      "6. Given these points, I cannot answer the question based on this paragraph.\n",
      "\n",
      "7. However, the paragraph does provide some information about a successful R&B artist (Louis Jordan) and mentions #1 hits, which is somewhat related to the concept of successful music artists and chart performance.\n",
      "\n",
      "8. While not directly relevant to answering the specific question, this information could potentially provide some context or background about successful recording artists and chart performance.\n",
      "\n",
      "Based on this analysis, I would rate this paragraph as marginally relevant. It doesn't help answer the specific question, but it does provide some tangentially related information about successful recording artists and chart performance.\n",
      "\n",
      "Rating: 0.5\n"
     ]
    }
   ],
   "source": [
    "print(to_inspect[\"llm_judge_reasoning\"])"
   ]
  },
  {
   "cell_type": "markdown",
   "metadata": {},
   "source": []
  }
 ],
 "metadata": {
  "kernelspec": {
   "display_name": "deepset-cloud-custom-nodes",
   "language": "python",
   "name": "python3"
  },
  "language_info": {
   "codemirror_mode": {
    "name": "ipython",
    "version": 3
   },
   "file_extension": ".py",
   "mimetype": "text/x-python",
   "name": "python",
   "nbconvert_exporter": "python",
   "pygments_lexer": "ipython3",
   "version": "3.11.4"
  }
 },
 "nbformat": 4,
 "nbformat_minor": 2
}
